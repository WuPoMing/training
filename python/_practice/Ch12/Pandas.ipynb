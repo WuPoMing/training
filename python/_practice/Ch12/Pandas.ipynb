{
 "cells": [
  {
   "cell_type": "markdown",
   "metadata": {},
   "source": [
    "## Pandas "
   ]
  },
  {
   "cell_type": "code",
   "execution_count": null,
   "metadata": {},
   "outputs": [],
   "source": [
    "!pip install pandas"
   ]
  },
  {
   "cell_type": "markdown",
   "metadata": {},
   "source": [
    "Series"
   ]
  },
  {
   "cell_type": "code",
   "execution_count": null,
   "metadata": {},
   "outputs": [],
   "source": [
    "import pandas as pd\n",
    "fruits = [\"蘋果\", \"橘子\", \"梨子\", \"櫻桃\"]\n",
    "s1 = pd.Series(fruits)\n",
    "print(type(s1))\n",
    "print(s1)\n",
    "print(s1.index)\n",
    "print(s1.values)"
   ]
  },
  {
   "cell_type": "code",
   "execution_count": null,
   "metadata": {},
   "outputs": [],
   "source": [
    "quantities = [15, 33, 45, 55]\n",
    "s2 = pd.Series(quantities, index=fruits)\n",
    "print(type(s2))\n",
    "print(s2)\n",
    "print(s2.index)\n",
    "print(s2.values)"
   ]
  },
  {
   "cell_type": "code",
   "execution_count": null,
   "metadata": {},
   "outputs": [],
   "source": [
    "s3 = pd.Series(quantities)\n",
    "s3.index = fruits\n",
    "print(s3)"
   ]
  },
  {
   "cell_type": "code",
   "execution_count": null,
   "metadata": {},
   "outputs": [],
   "source": [
    "dict4 = {\"蘋果\":15, \"橘子\":33, \"梨子\":45, \"櫻桃\":55}\n",
    "s4 = pd.Series(dict4)\n",
    "print(type(s4))\n",
    "print(s4)\n",
    "print(s4.index)\n",
    "print(s4.values)"
   ]
  },
  {
   "cell_type": "markdown",
   "metadata": {},
   "source": [
    "Series 運算"
   ]
  },
  {
   "cell_type": "code",
   "execution_count": null,
   "metadata": {},
   "outputs": [],
   "source": [
    "print(s1.count())\n",
    "print(s2.sum())\n",
    "print(s2.mean())\n",
    "print(s2.median())\n",
    "print(s2.min())\n",
    "print(s2.max())"
   ]
  },
  {
   "cell_type": "code",
   "execution_count": null,
   "metadata": {},
   "outputs": [],
   "source": [
    "print(s3.describe())\n",
    "print(s3.var())\n",
    "print(s3.std())\n",
    "print(s4.apply(lambda x:x**2))"
   ]
  },
  {
   "cell_type": "markdown",
   "metadata": {},
   "source": [
    "DataFrame"
   ]
  },
  {
   "cell_type": "code",
   "execution_count": null,
   "metadata": {},
   "outputs": [],
   "source": [
    "import pandas as pd\n",
    "data = {'Name':['Tom', 'Jack', 'Stella', 'Ricky'],'Age':[28,34,29,42],'Gender':['M','M','F','M']}\n",
    "df1 = pd.DataFrame(data)\n",
    "print(df1)\n",
    "df2 = pd.DataFrame(data, index=['emp1','emp2','emp3','emp4'])\n",
    "print(df2)\n",
    "df3 = pd.DataFrame(data, index=range(1,5))\n",
    "print(df3)\n",
    "df4 = pd.DataFrame(data, index=range(1,5), columns=['Name', 'Gender'])\n",
    "print(df4)"
   ]
  },
  {
   "cell_type": "code",
   "execution_count": null,
   "metadata": {},
   "outputs": [],
   "source": [
    "data2 = [{'Name':'Tom', 'Age': 28, 'Gender':'M'},\n",
    "         {'Name':'Jack', 'Age': 34, 'Gender':'M'},\n",
    "         {'Name':'Stella', 'Age': 29, 'Gender':'F'},\n",
    "         {'Name':'Ricky', 'Age': 42, 'Gender':'M'}]\n",
    "df1 = pd.DataFrame(data2, index=['001', '002', '003','004'])\n",
    "print(df1)\n",
    "df2 = pd.DataFrame(data2, index=range(1,5), columns=['Age', 'Gender'])\n",
    "print(df2)"
   ]
  },
  {
   "cell_type": "code",
   "execution_count": null,
   "metadata": {},
   "outputs": [],
   "source": [
    "data3 = [['Tom', 28, 'M'],['Jack', 34, 'M'],['Stella', 29, 'F'],['Ricky', 42, 'M']]\n",
    "df1 = pd.DataFrame(data3)\n",
    "print(df1)\n",
    "df2 = pd.DataFrame(data3, index=range(1,5), columns=['Name','Age', 'Gender'])\n",
    "print(df2)"
   ]
  },
  {
   "cell_type": "code",
   "execution_count": null,
   "metadata": {},
   "outputs": [],
   "source": [
    "import numpy as np\n",
    "data4 = np.array([['Tom', 28, 'M'],\n",
    "                  ['Jack', 34, 'M'],\n",
    "                  ['Stella', 29, 'F'],\n",
    "                  ['Ricky', 42, 'M']])\n",
    "df1 = pd.DataFrame(data4)\n",
    "print(df1)\n",
    "df2 = pd.DataFrame(data4, index=range(1,5), columns=('Name', 'Age', 'Gender'))\n",
    "print(df2)"
   ]
  },
  {
   "cell_type": "code",
   "execution_count": null,
   "metadata": {},
   "outputs": [],
   "source": [
    "data5 = {'Name' : pd.Series(['Tom', 'Jack', 'Stella', 'Ricky']),\n",
    "         'Age' : pd.Series([28,34,29,42]),\n",
    "         'Gender' : pd.Series(['M', 'M', 'F', 'M'])}\n",
    "df1 = pd.DataFrame(data5)\n",
    "print(df1)\n",
    "data6 = [pd.Series(['Tom', 28, 'M'],   index=('Name', 'Age', 'Gender')),\n",
    "         pd.Series(['Jack', 34, 'M'],  index=('Name', 'Age', 'Gender')),\n",
    "         pd.Series(['Stella', 29, 'F'],index=('Name', 'Age', 'Gender')),\n",
    "         pd.Series(['Ricky', 42, 'M'], index=('Name', 'Age', 'Gender'))]\n",
    "df2 = pd.DataFrame(data6)\n",
    "print(df2)"
   ]
  },
  {
   "cell_type": "markdown",
   "metadata": {},
   "source": [
    "Pandas資料輸出"
   ]
  },
  {
   "cell_type": "code",
   "execution_count": 3,
   "metadata": {},
   "outputs": [
    {
     "name": "stdout",
     "output_type": "stream",
     "text": [
      "         country  population      area    capital\n",
      "BR        Brazil         200   8515767   Brasilia\n",
      "RU        Russia         144  17098242     Moscow\n",
      "IN         India        1252   3287590  New Delhi\n",
      "CH         China        1357   9596961    Beijing\n",
      "SA  South Africa          55   1221037   Pretoria\n"
     ]
    }
   ],
   "source": [
    "data = [{\"country\":\"Brazil\",\"population\":200, \"area\":8515767, \"capital\":\"Brasilia\"},\n",
    "        {\"country\":\"Russia\",\"population\":144, \"area\":17098242, \"capital\":\"Moscow\"},\n",
    "        {\"country\":\"India\",\"population\":1252, \"area\":3287590, \"capital\":\"New Delhi\"},\n",
    "        {\"country\":\"China\",\"population\":1357, \"area\":9596961, \"capital\":\"Beijing\"},\n",
    "        {\"country\":\"South Africa\",\"population\":55, \"area\":1221037, \"capital\":\"Pretoria\"}]\n",
    "df = pd.DataFrame(data, index=['BR','RU','IN','CH','SA'])\n",
    "print(df)\n",
    "df.to_html(\"brics.html\")\n",
    "df.to_csv(\"brics.csv\")\n",
    "df.to_csv(\"brics2.csv\", header=False)\n",
    "df.to_json(\"brics.json\")"
   ]
  },
  {
   "cell_type": "code",
   "execution_count": 4,
   "metadata": {},
   "outputs": [
    {
     "name": "stdout",
     "output_type": "stream",
     "text": [
      "           name  population city\n",
      "first       中正區      159598  台北市\n",
      "second      板橋區      551452  新北市\n",
      "third       桃園區      441287  桃園市\n",
      "fourth      北屯區      275207  台中市\n",
      "fifth       安南區      192327  台南市\n",
      "sixth       三民區      343203  高雄市\n",
      "seventh     大安區      309835  台北市\n",
      "eigth       永和區      222531  新北市\n",
      "ninth       八德區      198473  桃園市\n",
      "tenth       前鎮區      189623  高雄市\n",
      "eleventh    鳳山區      359125  高雄市\n",
      "twelvth     信義區      225561  台北市\n",
      "thirteenth  新店區      302070  新北市\n"
     ]
    }
   ],
   "source": [
    "data = {\"name\": [\"中正區\", \"板橋區\", \"桃園區\", \"北屯區\", \"安南區\", \"三民區\", \"大安區\", \"永和區\", \"八德區\", \"前鎮區\", \"鳳山區\", \"信義區\", \"新店區\"],\n",
    "        \"population\": [159598, 551452, 441287, 275207, 192327, 343203, 309835, 222531, 198473, 189623, 359125, 225561, 302070],\n",
    "        \"city\": [\"台北市\", \"新北市\", \"桃園市\", \"台中市\", \"台南市\", \"高雄市\", \"台北市\", \"新北市\", \"桃園市\", \"高雄市\", \"高雄市\", \"台北市\", \"新北市\"]}\n",
    "rows = [\"first\", \"second\", \"third\", \"fourth\", \"fifth\", \"sixth\", \"seventh\", \"eigth\", \"ninth\", \"tenth\", \"eleventh\", \"twelvth\", \"thirteenth\"]\n",
    "df = pd.DataFrame(data, index=rows)\n",
    "print(df)\n",
    "df.to_html(\"area.html\")\n",
    "df.to_csv(\"area.csv\")\n",
    "df.to_json(\"area.json\", force_ascii=False)"
   ]
  },
  {
   "cell_type": "markdown",
   "metadata": {},
   "source": [
    "資料匯入"
   ]
  },
  {
   "cell_type": "code",
   "execution_count": 5,
   "metadata": {},
   "outputs": [
    {
     "name": "stdout",
     "output_type": "stream",
     "text": [
      "  Unnamed: 0       country  population      area    capital\n",
      "0         BR        Brazil         200   8515767   Brasilia\n",
      "1         RU        Russia         144  17098242     Moscow\n",
      "2         IN         India        1252   3287590  New Delhi\n",
      "3         CH         China        1357   9596961    Beijing\n",
      "4         SA  South Africa          55   1221037   Pretoria\n",
      "         country  population      area    capital\n",
      "BR        Brazil         200   8515767   Brasilia\n",
      "RU        Russia         144  17098242     Moscow\n",
      "IN         India        1252   3287590  New Delhi\n",
      "CH         China        1357   9596961    Beijing\n",
      "SA  South Africa          55   1221037   Pretoria\n"
     ]
    }
   ],
   "source": [
    "import pandas as pd\n",
    "brics = pd.read_csv('brics.csv')\n",
    "print(brics)\n",
    "brics = pd.read_csv('brics.csv', header=0, index_col=0)\n",
    "print(brics)"
   ]
  },
  {
   "cell_type": "code",
   "execution_count": 6,
   "metadata": {},
   "outputs": [
    {
     "name": "stdout",
     "output_type": "stream",
     "text": [
      "   BR        Brazil   200   8515767   Brasilia\n",
      "0  RU        Russia   144  17098242     Moscow\n",
      "1  IN         India  1252   3287590  New Delhi\n",
      "2  CH         China  1357   9596961    Beijing\n",
      "3  SA  South Africa    55   1221037   Pretoria\n",
      "  code       country  population      area    capital\n",
      "0   BR        Brazil         200   8515767   Brasilia\n",
      "1   RU        Russia         144  17098242     Moscow\n",
      "2   IN         India        1252   3287590  New Delhi\n",
      "3   CH         China        1357   9596961    Beijing\n",
      "4   SA  South Africa          55   1221037   Pretoria\n",
      "         country  population      area    capital\n",
      "BR        Brazil         200   8515767   Brasilia\n",
      "RU        Russia         144  17098242     Moscow\n",
      "IN         India        1252   3287590  New Delhi\n",
      "CH         China        1357   9596961    Beijing\n",
      "SA  South Africa          55   1221037   Pretoria\n"
     ]
    }
   ],
   "source": [
    "df1 = pd.read_csv(\"brics2.csv\")\n",
    "print(df1)\n",
    "cols=['code','country','population','area','capital']\n",
    "df2 = pd.read_csv(\"brics2.csv\", header=None, names=cols)\n",
    "print(df2)\n",
    "cols2=['country','population','area','capital']\n",
    "df3 = pd.read_csv(\"brics2.csv\", names=cols2, index_col=0)\n",
    "print(df3)"
   ]
  },
  {
   "cell_type": "code",
   "execution_count": 7,
   "metadata": {},
   "outputs": [
    {
     "name": "stdout",
     "output_type": "stream",
     "text": [
      "    Unnamed: 0 name  population city\n",
      "0        first  中正區      159598  台北市\n",
      "1       second  板橋區      551452  新北市\n",
      "2        third  桃園區      441287  桃園市\n",
      "3       fourth  北屯區      275207  台中市\n",
      "4        fifth  安南區      192327  台南市\n",
      "5        sixth  三民區      343203  高雄市\n",
      "6      seventh  大安區      309835  台北市\n",
      "7        eigth  永和區      222531  新北市\n",
      "8        ninth  八德區      198473  桃園市\n",
      "9        tenth  前鎮區      189623  高雄市\n",
      "10    eleventh  鳳山區      359125  高雄市\n",
      "11     twelvth  信義區      225561  台北市\n",
      "12  thirteenth  新店區      302070  新北市\n",
      "           name  population city\n",
      "first       中正區      159598  台北市\n",
      "second      板橋區      551452  新北市\n",
      "third       桃園區      441287  桃園市\n",
      "fourth      北屯區      275207  台中市\n",
      "fifth       安南區      192327  台南市\n",
      "sixth       三民區      343203  高雄市\n",
      "seventh     大安區      309835  台北市\n",
      "eigth       永和區      222531  新北市\n",
      "ninth       八德區      198473  桃園市\n",
      "tenth       前鎮區      189623  高雄市\n",
      "eleventh    鳳山區      359125  高雄市\n",
      "twelvth     信義區      225561  台北市\n",
      "thirteenth  新店區      302070  新北市\n"
     ]
    }
   ],
   "source": [
    "area = pd.read_csv('area.csv')\n",
    "print(area)\n",
    "area = pd.read_csv('area.csv', header=0, index_col=0)\n",
    "print(area)"
   ]
  },
  {
   "cell_type": "code",
   "execution_count": 8,
   "metadata": {},
   "outputs": [
    {
     "name": "stdout",
     "output_type": "stream",
     "text": [
      "         country  population      area    capital\n",
      "BR        Brazil         200   8515767   Brasilia\n",
      "RU        Russia         144  17098242     Moscow\n",
      "IN         India        1252   3287590  New Delhi\n",
      "CH         China        1357   9596961    Beijing\n",
      "SA  South Africa          55   1221037   Pretoria\n",
      "           name  population city\n",
      "first       中正區      159598  台北市\n",
      "second      板橋區      551452  新北市\n",
      "third       桃園區      441287  桃園市\n",
      "fourth      北屯區      275207  台中市\n",
      "fifth       安南區      192327  台南市\n",
      "sixth       三民區      343203  高雄市\n",
      "seventh     大安區      309835  台北市\n",
      "eigth       永和區      222531  新北市\n",
      "ninth       八德區      198473  桃園市\n",
      "tenth       前鎮區      189623  高雄市\n",
      "eleventh    鳳山區      359125  高雄市\n",
      "twelvth     信義區      225561  台北市\n",
      "thirteenth  新店區      302070  新北市\n"
     ]
    }
   ],
   "source": [
    "df1 = pd.read_json(\"brics.json\")  \n",
    "print(df1)\n",
    "df2 = pd.read_json('area.json', encoding='cp950')\n",
    "print(df2)"
   ]
  },
  {
   "cell_type": "code",
   "execution_count": 12,
   "metadata": {},
   "outputs": [
    {
     "name": "stdout",
     "output_type": "stream",
     "text": [
      "[  Unnamed: 0       country  population      area    capital\n",
      "0         BR        Brazil         200   8515767   Brasilia\n",
      "1         RU        Russia         144  17098242     Moscow\n",
      "2         IN         India        1252   3287590  New Delhi\n",
      "3         CH         China        1357   9596961    Beijing\n",
      "4         SA  South Africa          55   1221037   Pretoria]\n",
      "[    Unnamed: 0 name  population city\n",
      "0        first  中正區      159598  台北市\n",
      "1       second  板橋區      551452  新北市\n",
      "2        third  桃園區      441287  桃園市\n",
      "3       fourth  北屯區      275207  台中市\n",
      "4        fifth  安南區      192327  台南市\n",
      "5        sixth  三民區      343203  高雄市\n",
      "6      seventh  大安區      309835  台北市\n",
      "7        eigth  永和區      222531  新北市\n",
      "8        ninth  八德區      198473  桃園市\n",
      "9        tenth  前鎮區      189623  高雄市\n",
      "10    eleventh  鳳山區      359125  高雄市\n",
      "11     twelvth  信義區      225561  台北市\n",
      "12  thirteenth  新店區      302070  新北市]\n"
     ]
    }
   ],
   "source": [
    "import pandas as pd\n",
    "df1 = pd.read_html(\"brics.html\")  \n",
    "print(df1)\n",
    "df2 = pd.read_html('area.html', encoding='utf-8')\n",
    "print(df2)"
   ]
  },
  {
   "cell_type": "markdown",
   "metadata": {},
   "source": [
    "讀取欄位與列"
   ]
  },
  {
   "cell_type": "code",
   "execution_count": null,
   "metadata": {},
   "outputs": [],
   "source": [
    "print(brics.area)\n",
    "print(brics['population'])"
   ]
  },
  {
   "cell_type": "code",
   "execution_count": null,
   "metadata": {},
   "outputs": [],
   "source": [
    "print(brics.loc['BR'])"
   ]
  },
  {
   "cell_type": "code",
   "execution_count": null,
   "metadata": {},
   "outputs": [],
   "source": [
    "print(brics['population'].loc['CH'])\n",
    "print(brics['capital']['SA'])\n",
    "print(brics.loc['CH']['population'])\n",
    "print(brics.loc['SA', 'capital'])"
   ]
  },
  {
   "cell_type": "code",
   "execution_count": null,
   "metadata": {},
   "outputs": [],
   "source": [
    "#print(area['name'])\n",
    "#print(area['city','name'])\n",
    "print(area[['city','name']])"
   ]
  },
  {
   "cell_type": "code",
   "execution_count": null,
   "metadata": {},
   "outputs": [],
   "source": [
    "#print(area.loc['seventh'])\n",
    "print(area[0:6])\n",
    "print(area['seventh':'tenth'])"
   ]
  },
  {
   "cell_type": "code",
   "execution_count": null,
   "metadata": {},
   "outputs": [],
   "source": [
    "print(area[0:13:2][['city','name']])\n",
    "print(area['fifth':'ninth'][['city','population',]])"
   ]
  },
  {
   "cell_type": "code",
   "execution_count": null,
   "metadata": {},
   "outputs": [],
   "source": [
    "print(area.loc['first', 'name'])\n",
    "print(area.loc[['first','second','third'], ['name', 'city']])\n",
    "print(area.loc['third':'ninth','name':'city'])\n",
    "print(area.loc['third':'ninth',['name', 'city']])\n",
    "#print(area.loc[4:9:2, 0:2])"
   ]
  },
  {
   "cell_type": "code",
   "execution_count": null,
   "metadata": {},
   "outputs": [],
   "source": [
    "print(area.iloc[4:9:2, 0:2])\n",
    "print(area.ix[4:9:2, 'name':'city'])"
   ]
  },
  {
   "cell_type": "markdown",
   "metadata": {},
   "source": [
    "部分N列資料"
   ]
  },
  {
   "cell_type": "code",
   "execution_count": null,
   "metadata": {},
   "outputs": [],
   "source": [
    "ufo= pd.read_csv('http://bit.ly/uforeports')\n",
    "print(ufo.head(10))\n",
    "print()\n",
    "print(ufo.tail())\n",
    "print()\n",
    "print(ufo.sample(15))\n",
    "print()\n",
    "print(ufo.iloc[0:500:10].sample(frac=0.1))"
   ]
  },
  {
   "cell_type": "code",
   "execution_count": null,
   "metadata": {},
   "outputs": [],
   "source": [
    "print(area.nlargest(3, 'population'))\n",
    "print(area.nsmallest(3, 'population'))\n",
    "#print(area)"
   ]
  },
  {
   "cell_type": "code",
   "execution_count": null,
   "metadata": {},
   "outputs": [],
   "source": [
    "print(brics['area'].min())\n",
    "print(brics['population'].max())"
   ]
  },
  {
   "cell_type": "markdown",
   "metadata": {},
   "source": [
    "關係運算取子集合"
   ]
  },
  {
   "cell_type": "code",
   "execution_count": null,
   "metadata": {},
   "outputs": [],
   "source": [
    "print(brics[brics['area']==brics['area'].max()])\n",
    "print(brics[brics['population']==brics['population'].min()])"
   ]
  },
  {
   "cell_type": "markdown",
   "metadata": {},
   "source": [
    "新增欄位"
   ]
  },
  {
   "cell_type": "code",
   "execution_count": null,
   "metadata": {},
   "outputs": [],
   "source": [
    "print(brics)\n",
    "brics['on_earth'] = [False,False,False,False,False]\n",
    "print(brics)"
   ]
  },
  {
   "cell_type": "code",
   "execution_count": null,
   "metadata": {},
   "outputs": [],
   "source": [
    "brics['density'] = brics['population']*1000000/brics['area']\n",
    "print(brics)"
   ]
  },
  {
   "cell_type": "markdown",
   "metadata": {},
   "source": [
    "刪除欄位"
   ]
  },
  {
   "cell_type": "code",
   "execution_count": null,
   "metadata": {},
   "outputs": [],
   "source": [
    "density = brics.pop('density')\n",
    "print(density)\n",
    "print(brics)"
   ]
  },
  {
   "cell_type": "code",
   "execution_count": null,
   "metadata": {},
   "outputs": [],
   "source": [
    "del brics['on_earth']\n",
    "print(brics)"
   ]
  },
  {
   "cell_type": "markdown",
   "metadata": {},
   "source": [
    "新增列資料"
   ]
  },
  {
   "cell_type": "code",
   "execution_count": null,
   "metadata": {},
   "outputs": [],
   "source": [
    "TW = pd.DataFrame([{\"country\":\"Taiwan\", \"population\":23, \"area\":36500, \"capital\":\"Taipei\"}], index=['TW'])\n",
    "print(brics.append(TW, sort=True))\n",
    "print(brics)"
   ]
  },
  {
   "cell_type": "code",
   "execution_count": null,
   "metadata": {},
   "outputs": [],
   "source": [
    "print(pd.concat([brics, TW],axis=0, sort=False))\n",
    "print(brics)"
   ]
  },
  {
   "cell_type": "markdown",
   "metadata": {},
   "source": [
    "刪除列資料"
   ]
  },
  {
   "cell_type": "code",
   "execution_count": null,
   "metadata": {},
   "outputs": [],
   "source": [
    "print(brics.drop('SA'))\n",
    "print(brics)\n",
    "print(brics.drop('capital', axis=1))\n",
    "print(brics)"
   ]
  },
  {
   "cell_type": "code",
   "execution_count": null,
   "metadata": {},
   "outputs": [],
   "source": []
  }
 ],
 "metadata": {
  "kernelspec": {
   "display_name": "Python 3",
   "language": "python",
   "name": "python3"
  },
  "language_info": {
   "codemirror_mode": {
    "name": "ipython",
    "version": 3
   },
   "file_extension": ".py",
   "mimetype": "text/x-python",
   "name": "python",
   "nbconvert_exporter": "python",
   "pygments_lexer": "ipython3",
   "version": "3.8.1"
  }
 },
 "nbformat": 4,
 "nbformat_minor": 2
}
