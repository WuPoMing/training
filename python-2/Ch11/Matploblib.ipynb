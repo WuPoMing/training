{
 "cells": [
  {
   "cell_type": "markdown",
   "metadata": {},
   "source": [
    "## Matplotlib "
   ]
  },
  {
   "cell_type": "code",
   "execution_count": null,
   "metadata": {},
   "outputs": [],
   "source": [
    "!pip install matplotlib"
   ]
  },
  {
   "cell_type": "code",
   "execution_count": null,
   "metadata": {},
   "outputs": [],
   "source": [
    "%matplotlib inline\n",
    "import matplotlib.pyplot as plt\n",
    "year = [1950, 1970, 1990, 2010]\n",
    "pop = [2.519, 3.692, 5.263, 6.972]\n",
    "\n",
    "plt.plot(year, pop, \"bo-\")\n",
    "plt.grid(axis='y')\n",
    "plt.title('World Population Projections')\n",
    "plt.xlabel('Year')\n",
    "plt.ylabel('Population')\n",
    "plt.yticks([0,2,4,6,8,10],['0','2B','4B','6B','8B','10B'])\n",
    "plt.fill_between(year,pop,0,color='green')\n",
    "\n",
    "plt.show()"
   ]
  },
  {
   "cell_type": "code",
   "execution_count": null,
   "metadata": {},
   "outputs": [],
   "source": [
    "import matplotlib.pyplot as plt\n",
    "en=[75, 90, 20, 80, 92]\n",
    "ch=[91, 95, 88, 100, 97]\n",
    "plt.plot(en, ch, 'ro')\n",
    "#plt.axis('off')\n",
    "#plt.axis([0,100, 60, 100])\n",
    "plt.axis('equal')\n",
    "plt.xlabel('English')\n",
    "plt.ylabel('Chinese')\n",
    "plt.show()"
   ]
  },
  {
   "cell_type": "code",
   "execution_count": null,
   "metadata": {},
   "outputs": [],
   "source": [
    "from matplotlib.font_manager import FontProperties\n",
    "font = FontProperties(fname=r'NotoSansCJKtc-hinted\\NotoSansCJKtc-Regular.otf', size=10)"
   ]
  },
  {
   "cell_type": "code",
   "execution_count": null,
   "metadata": {},
   "outputs": [],
   "source": [
    "plt.plot(year, pop, \"bo-\")\n",
    "plt.grid(axis='y')\n",
    "plt.title('世界人口預測', fontproperties=font)\n",
    "plt.xlabel('年', fontproperties=font)\n",
    "plt.ylabel('人口', fontproperties=font)\n",
    "plt.yticks([0,2,4,6,8,10],['0','2B','4B','6B','8B','10B'])\n",
    "plt.fill_between(year,pop,0,color='green')\n",
    "\n",
    "plt.show()"
   ]
  },
  {
   "cell_type": "code",
   "execution_count": null,
   "metadata": {},
   "outputs": [],
   "source": [
    "import matplotlib\n",
    "matplotlib.rcParams['font.family']='sans-serif'\n",
    "matplotlib.rcParams['font.sans-serif']='Noto Serif CJK TC'"
   ]
  },
  {
   "cell_type": "code",
   "execution_count": null,
   "metadata": {},
   "outputs": [],
   "source": [
    "plt.plot(en, ch, 'ro')\n",
    "plt.axis('equal')\n",
    "plt.xlabel('英文')\n",
    "plt.ylabel('中文')\n",
    "plt.show()"
   ]
  },
  {
   "cell_type": "markdown",
   "metadata": {},
   "source": [
    "長條圖 Bar Chart"
   ]
  },
  {
   "cell_type": "code",
   "execution_count": null,
   "metadata": {},
   "outputs": [],
   "source": [
    "import matplotlib.pyplot as plt\n",
    "city = ['Delhi', 'Beijing', 'Washington', 'Tokyo', 'Moscow']\n",
    "Happiness_Index = [60, 40, 70, 65, 85]\n",
    "\n",
    "plt.bar(city, Happiness_Index, color='blue', edgecolor='black')\n",
    "plt.xlabel('City', fontsize=16)\n",
    "plt.ylabel('Happiness Index', fontsize=16)\n",
    "plt.title('Bar Chart', fontsize=20)\n",
    "plt.show()"
   ]
  },
  {
   "cell_type": "code",
   "execution_count": null,
   "metadata": {},
   "outputs": [],
   "source": [
    "plt.barh(city, Happiness_Index, color='blue',edgecolor='black')\n",
    "plt.xlabel('Happiness Index', fontsize=16)\n",
    "plt.ylabel('City', fontsize=16)\n",
    "plt.title('Horizontal Bar Chart', fontsize=20)\n",
    "plt.show()"
   ]
  },
  {
   "cell_type": "markdown",
   "metadata": {},
   "source": [
    "散佈圖 Scatter Chart"
   ]
  },
  {
   "cell_type": "code",
   "execution_count": null,
   "metadata": {},
   "outputs": [],
   "source": [
    "plt.scatter(year, pop)\n",
    "plt.title('World Population Projections')\n",
    "plt.xlabel('Year')\n",
    "plt.ylabel('Population')\n",
    "plt.yticks([0,2,4,6,8,10],['0','2B','4B','6B','8B','10B'])\n",
    "plt.show()"
   ]
  },
  {
   "cell_type": "code",
   "execution_count": null,
   "metadata": {},
   "outputs": [],
   "source": [
    "height1 = [100.7, 195.6, 94.3, 127.1, 111.7, 159.7, 135, 149.9, 124.3, 112.9, 176.7, 110.2, 123.9, 161.9, 107.8]\n",
    "weight1 = [57, 58.2, 58.6, 59.6, 59.8, 60.2, 60.5, 60.6, 60.7, 61.3, 61.3, 61.4, 61.8, 61.9, 62.3]\n",
    "height2 = [151.8, 156.3, 136.1, 124.2, 156.3, 130, 181.2, 255.9, 163.1, 123.1, 119.5, 179.9, 114.8, 174.1, 108.8]\n",
    "weight2 = [62.9, 63, 63.1, 63.2, 63.3, 63.4, 63.4, 63.4, 63.5, 63.6, 63.7, 64.1, 64.3, 64.3, 64.7]\n",
    "height3 = [166.8, 172.9, 193.8, 137.4, 162.4, 137.1, 169.1, 237.1, 189.1, 179.3, 174.8, 213.3, 198, 191.1, 220.6]\n",
    "weight3 = [69.2, 69.2, 69.4, 69.7, 70, 70.3, 70.8, 71, 71.1, 71.7, 71.9, 72.4, 73, 73.1, 76.2]"
   ]
  },
  {
   "cell_type": "code",
   "execution_count": null,
   "metadata": {},
   "outputs": [],
   "source": [
    "plt.scatter(height1, weight1, c='r', marker='^')\n",
    "plt.title('Scatter plot - height vs weight')\n",
    "plt.xlabel('Height')\n",
    "plt.ylabel('Weight')\n",
    "plt.show()"
   ]
  },
  {
   "cell_type": "code",
   "execution_count": null,
   "metadata": {},
   "outputs": [],
   "source": [
    "height = height1+height2+height3\n",
    "weight = weight1+weight2+weight3\n",
    "colors = ['b']*15+['r']*15+['g']*15\n",
    "plt.scatter(height, weight, marker='*', c=colors)\n",
    "plt.title('Grouped Scatter plot - height vs weight')\n",
    "plt.xlabel('Height')\n",
    "plt.ylabel('Weight')\n",
    "plt.show()"
   ]
  },
  {
   "cell_type": "markdown",
   "metadata": {},
   "source": [
    "直方圖 Histograms"
   ]
  },
  {
   "cell_type": "code",
   "execution_count": null,
   "metadata": {},
   "outputs": [],
   "source": [
    "values = [0, 0.6, 1.4, 1.6, 2.2, 2.5, 2.6, 3.2, 3.5, 3.9, 4.2, 6]\n",
    "plt.hist(values, bins=6)\n",
    "plt.show()"
   ]
  },
  {
   "cell_type": "code",
   "execution_count": null,
   "metadata": {},
   "outputs": [],
   "source": [
    "scores = [82, 76, 24, 40, 67, 62, 75, 78, 71, 32, 98, 89, 78, 67, 72, 82, 87, 66, 56, 52]\n",
    "plt.hist(scores, histtype='bar',label='Test Score', edgecolor='black', color='b')\n",
    "plt.show()"
   ]
  },
  {
   "cell_type": "code",
   "execution_count": null,
   "metadata": {},
   "outputs": [],
   "source": [
    "plt.hist(scores, histtype='bar',label='Test Score', edgecolor='black', color='b', range=(0,100), bins=10)\n",
    "plt.show()"
   ]
  },
  {
   "cell_type": "markdown",
   "metadata": {},
   "source": [
    "圓餅圖 Pie Chart"
   ]
  },
  {
   "cell_type": "code",
   "execution_count": null,
   "metadata": {},
   "outputs": [],
   "source": [
    "values = [60, 80, 90, 55, 10, 30]\n",
    "colors = ['b', 'g', 'r', 'c', 'm', 'y']\n",
    "labels = ['US', 'UK', 'India', 'Germany', 'Australia', 'South Korea']\n",
    "plt.pie(values, colors=colors, labels=labels, autopct='%.0f%%')\n",
    "plt.title('Sales Contribution')\n",
    "plt.show()"
   ]
  },
  {
   "cell_type": "code",
   "execution_count": null,
   "metadata": {},
   "outputs": [],
   "source": [
    "explode= [0.2,0,0,0,0,0]\n",
    "plt.pie(values, colors=colors, labels=labels, explode=explode, autopct='%3.1f%%', counterclock=False, shadow=True)\n",
    "plt.title('Sales Contribution')\n",
    "plt.show()"
   ]
  },
  {
   "cell_type": "markdown",
   "metadata": {},
   "source": [
    "箱線圖 Box Chart"
   ]
  },
  {
   "cell_type": "code",
   "execution_count": null,
   "metadata": {},
   "outputs": [],
   "source": [
    "value1 = [82, 76, 24, 40, 67, 62, 75, 78, 71, 32, 98, 89, 78, 67, 72, 82, 87, 66, 56, 52]\n",
    "value2 = [62, 5, 91, 25, 36, 32, 96, 95, 3, 90, 95, 32, 27, 55, 100, 15, 71, 11, 37, 21]\n",
    "value3 = [23, 89, 12, 78, 72, 89, 25, 69, 68, 86, 19, 49, 15, 16, 16, 75, 65, 31, 25, 52]\n",
    "value4 = [59, 73, 70, 16, 81, 61, 88, 98, 10, 87, 29, 72, 16, 23, 72, 88, 78, 99, 75, 30]\n",
    "data = [value1, value2, value3, value4]\n",
    "labels =['Chinese', 'Mathematics', 'English', 'Science']\n",
    "plt.boxplot(data, patch_artist=True, labels = labels)\n",
    "plt.show()"
   ]
  },
  {
   "cell_type": "code",
   "execution_count": null,
   "metadata": {},
   "outputs": [],
   "source": []
  }
 ],
 "metadata": {
  "kernelspec": {
   "display_name": "Python 3",
   "language": "python",
   "name": "python3"
  },
  "language_info": {
   "codemirror_mode": {
    "name": "ipython",
    "version": 3
   },
   "file_extension": ".py",
   "mimetype": "text/x-python",
   "name": "python",
   "nbconvert_exporter": "python",
   "pygments_lexer": "ipython3",
   "version": "3.8.1"
  }
 },
 "nbformat": 4,
 "nbformat_minor": 2
}
