{
 "cells": [
  {
   "cell_type": "markdown",
   "metadata": {},
   "source": [
    "## 匯入與加總資料 "
   ]
  },
  {
   "cell_type": "markdown",
   "metadata": {},
   "source": [
    "探索資料"
   ]
  },
  {
   "cell_type": "code",
   "execution_count": null,
   "metadata": {},
   "outputs": [],
   "source": [
    "import pandas as pd\n",
    "brics = pd.read_csv(\"brics.csv\", header=0, index_col=0)\n",
    "print(brics)\n",
    "print('ndim: ', brics.ndim)\n",
    "print('shape: ', brics.shape)\n",
    "print('size: ', brics.size)\n",
    "print('index: ', brics.index)\n",
    "print('columns: ', brics.columns)"
   ]
  },
  {
   "cell_type": "code",
   "execution_count": null,
   "metadata": {},
   "outputs": [],
   "source": [
    "print(\"info():\")\n",
    "print(brics.info())\n",
    "print(\"count():\")\n",
    "print(brics.count())\n",
    "print(\"describe():\")\n",
    "print(brics.describe())"
   ]
  },
  {
   "cell_type": "code",
   "execution_count": null,
   "metadata": {},
   "outputs": [],
   "source": [
    "print(\"sum()\")\n",
    "print(brics.sum())\n",
    "print(\"population cumsum()\")\n",
    "print(brics['population'].cumsum())\n",
    "print(\"population mean():\", brics['population'].mean())\n",
    "print(\"population median():\", brics['population'].median())\n",
    "print(\"population min():\", brics['population'].min())\n",
    "print(\"population max():\", brics['population'].max())\n",
    "print(\"population std():\", brics['population'].std())"
   ]
  },
  {
   "cell_type": "markdown",
   "metadata": {},
   "source": [
    "遺失值"
   ]
  },
  {
   "cell_type": "code",
   "execution_count": null,
   "metadata": {},
   "outputs": [],
   "source": [
    "import numpy as np\n",
    "df = pd.DataFrame(np.random.randn(5, 3), index=['a', 'c', 'e', 'f','h'],columns=['one', 'two', 'three'])\n",
    "df = df.reindex(['a', 'b', 'c', 'd', 'e', 'f', 'g', 'h'])\n",
    "print(df)"
   ]
  },
  {
   "cell_type": "markdown",
   "metadata": {},
   "source": [
    "檢查遺失值"
   ]
  },
  {
   "cell_type": "code",
   "execution_count": null,
   "metadata": {},
   "outputs": [],
   "source": [
    "print(df['one'].isnull( ) )\n",
    "print(\"---------------\")\n",
    "print(df.isnull( ) )"
   ]
  },
  {
   "cell_type": "code",
   "execution_count": null,
   "metadata": {},
   "outputs": [],
   "source": [
    "print(df['one'].notnull( ) )\n",
    "print(\"---------------\")\n",
    "print(df.notnull( ) )"
   ]
  },
  {
   "cell_type": "markdown",
   "metadata": {},
   "source": [
    "包含遺失值資料"
   ]
  },
  {
   "cell_type": "code",
   "execution_count": null,
   "metadata": {},
   "outputs": [],
   "source": [
    "def getMissingData():\n",
    "    raw_data = {'first_name': ['Jason', np.nan, 'Tina', 'Jake', 'Amy'],\n",
    "                'last_name': ['Miller', np.nan, 'Ali', 'Milner', 'Cooze'], \n",
    "                'age': [42, np.nan, 36, 24, 73], \n",
    "                'sex': ['m', np.nan, 'f', 'm', 'f'], \n",
    "                'preTestScore': [4, np.nan, np.nan, 2, 3],\n",
    "                'postTestScore': [25, np.nan, np.nan, 62, 70],\n",
    "                'testdata': [14, np.nan, 2, 22, 33]}\n",
    "    df = pd.DataFrame(raw_data, columns=['first_name', 'last_name', 'age', 'sex', 'preTestScore', 'postTestScore','testdata'] )\n",
    "    return df\n",
    "print(getMissingData())"
   ]
  },
  {
   "cell_type": "markdown",
   "metadata": {},
   "source": [
    "丟棄遺失值"
   ]
  },
  {
   "cell_type": "code",
   "execution_count": null,
   "metadata": {},
   "outputs": [],
   "source": [
    "data = getMissingData()\n",
    "data_drop_default = data.dropna()\n",
    "print(data_drop_default)\n",
    "data_drop_all = data.dropna(how='all')\n",
    "print(data_drop_all)\n",
    "#data_drop_thresh = data.dropna(thresh=5)\n",
    "data_drop_thresh = data.dropna(thresh=6)\n",
    "print(data_drop_thresh)"
   ]
  },
  {
   "cell_type": "code",
   "execution_count": null,
   "metadata": {},
   "outputs": [],
   "source": [
    "data2 = getMissingData()\n",
    "data2['location'] = np.nan\n",
    "print(data2)\n",
    "#data_drop_column = data2.dropna(axis=1)\n",
    "#data_drop_column = data2.dropna(axis=1, how='all')\n",
    "#data_drop_column = data2.dropna(axis=1, thresh=3)\n",
    "data_drop_column = data2.dropna(axis=1, thresh=4)\n",
    "print(data_drop_column)"
   ]
  },
  {
   "cell_type": "markdown",
   "metadata": {},
   "source": [
    "遺失值填充0"
   ]
  },
  {
   "cell_type": "code",
   "execution_count": null,
   "metadata": {},
   "outputs": [],
   "source": [
    "data = getMissingData()\n",
    "fill_zero = data.fillna(0)  \n",
    "print(fill_zero)"
   ]
  },
  {
   "cell_type": "markdown",
   "metadata": {},
   "source": [
    "遺失值填充平均數"
   ]
  },
  {
   "cell_type": "code",
   "execution_count": null,
   "metadata": {},
   "outputs": [],
   "source": [
    "data = getMissingData()\n",
    "testMean = data['testdata'].mean()\n",
    "fill_mean = data['testdata'].fillna(testMean)\n",
    "print(fill_mean)"
   ]
  },
  {
   "cell_type": "code",
   "execution_count": null,
   "metadata": {},
   "outputs": [],
   "source": [
    "data['testdata'].fillna(data['testdata'].mean(), inplace=True)\n",
    "data['preTestScore'].fillna(data['preTestScore'].mean(), inplace=True)\n",
    "data['postTestScore'].fillna(data['postTestScore'].mean(), inplace=True)\n",
    "print(data)"
   ]
  },
  {
   "cell_type": "markdown",
   "metadata": {},
   "source": [
    "遺失值填充中位數"
   ]
  },
  {
   "cell_type": "code",
   "execution_count": null,
   "metadata": {},
   "outputs": [],
   "source": [
    "data = getMissingData()\n",
    "median=data[\"testdata\"].median( )\n",
    "print(\"median of testdata column:\",median)\n",
    "print(\"---------------\")\n",
    "data['testdata'].fillna(data['testdata'].median(), inplace=True)\n",
    "data['preTestScore'].fillna(data['preTestScore'].median(), inplace=True)\n",
    "data['postTestScore'].fillna(data['postTestScore'].median(), inplace=True)\n",
    "print(data)"
   ]
  },
  {
   "cell_type": "markdown",
   "metadata": {},
   "source": [
    "遺失值填充前後值"
   ]
  },
  {
   "cell_type": "code",
   "execution_count": null,
   "metadata": {},
   "outputs": [],
   "source": [
    "data = getMissingData()\n",
    "print (data.fillna(method='ffill'))\n",
    "print(\"---------------\")\n",
    "print (data.fillna(method='pad'))\n",
    "print(\"---------------\")\n",
    "print (data.fillna(method='bfill'))\n",
    "print(\"---------------\")\n",
    "print (data.fillna(method='backfill'))"
   ]
  },
  {
   "cell_type": "markdown",
   "metadata": {},
   "source": [
    "包含重複值資料"
   ]
  },
  {
   "cell_type": "code",
   "execution_count": null,
   "metadata": {},
   "outputs": [],
   "source": [
    "def getDupData():\n",
    "    raw_data = {'first_name': ['Jason', 'Jason', 'Jason','Tina', 'Jake', 'Amy'],\n",
    "                       'last_name': ['Miller', 'Miller', 'Miller','Ali', 'Python', 'Pcschool'],\n",
    "                       'age': [42, 42, 42, 36, 24, 73],\n",
    "                       'preTestScore': [4, 4, 4, 31, 2, 3],\n",
    "                       'postTestScore': [25, 25, 25, 57, 62, 70],\n",
    "                       'testdata':[3,3,3,3,3,3]}\n",
    "    df = pd.DataFrame(raw_data, columns = ['first_name', 'last_name', 'age', 'preTestScore', 'postTestScore','testdata'])\n",
    "    return df\n",
    "\n",
    "print(getDupData())"
   ]
  },
  {
   "cell_type": "markdown",
   "metadata": {},
   "source": [
    "檢查重複值"
   ]
  },
  {
   "cell_type": "code",
   "execution_count": null,
   "metadata": {},
   "outputs": [],
   "source": [
    "data = getDupData()\n",
    "print(data)\n",
    "print(\"---------------\")\n",
    "print(data.duplicated( ))\n",
    "print(\"---------------\")\n",
    "print(data.duplicated('age'))\n",
    "print(\"---------------\")\n",
    "print(data.duplicated('testdata'))"
   ]
  },
  {
   "cell_type": "code",
   "execution_count": null,
   "metadata": {},
   "outputs": [],
   "source": [
    "print(data.duplicated(subset=['preTestScore','postTestScore'],keep=False))\n",
    "print(\"---------------\")\n",
    "print(data.duplicated(subset=['preTestScore','postTestScore']))"
   ]
  },
  {
   "cell_type": "code",
   "execution_count": null,
   "metadata": {},
   "outputs": [],
   "source": [
    "user_cols = ['user_id', 'age', 'gender', 'occupation', 'zip_code']\n",
    "url = 'http://bit.ly/movieusers'\n",
    "users = pd.read_table(url, sep='|', header=None, names=user_cols, index_col='user_id')\n",
    "print(users)\n",
    "print(users.zip_code.duplicated()) \n",
    "print(\"---------------\")\n",
    "dup_count=users.zip_code.duplicated().sum() \n",
    "print(dup_count)\n",
    "print(\"---------------\")\n",
    "zips=users.zip_code.unique()\n",
    "print(len(zips))\n",
    "print(\"---------------\")"
   ]
  },
  {
   "cell_type": "markdown",
   "metadata": {},
   "source": [
    "丟棄重複值"
   ]
  },
  {
   "cell_type": "code",
   "execution_count": null,
   "metadata": {},
   "outputs": [],
   "source": [
    "data = getDupData()\n",
    "print(data)\n",
    "print(\"---------------\")\n",
    "print(data.drop_duplicates( )) \n",
    "print(\"---------------\")\n",
    "print(data.drop_duplicates(keep='last')) \n",
    "print(\"---------------\")\n",
    "print(data.drop_duplicates(keep=False))"
   ]
  },
  {
   "cell_type": "markdown",
   "metadata": {},
   "source": [
    "## 資料分群 "
   ]
  },
  {
   "cell_type": "code",
   "execution_count": null,
   "metadata": {},
   "outputs": [],
   "source": [
    "import pandas as pd\n",
    "fortune1000 = pd.read_csv(\"Fortune1000.csv\",index_col=\"Rank\")\n",
    "print(fortune1000.head())\n",
    "print('-----------------------')\n",
    "gb_sector = fortune1000.groupby('Sector')\n",
    "print(type(gb_sector))\n",
    "print('-----------------------')\n",
    "print(gb_sector.size())"
   ]
  },
  {
   "cell_type": "code",
   "execution_count": null,
   "metadata": {},
   "outputs": [],
   "source": [
    "print(gb_sector.count())\n",
    "print('-----------------------')\n",
    "print(gb_sector.Company.count())\n",
    "print('-----------------------')\n",
    "print(gb_sector.Employees.count())\n",
    "print('-----------------------')"
   ]
  },
  {
   "cell_type": "code",
   "execution_count": null,
   "metadata": {},
   "outputs": [],
   "source": [
    "gb_sec_ind = fortune1000.groupby(['Sector', 'Industry'])\n",
    "print(gb_sec_ind.size())\n",
    "print('-----------------------')\n",
    "print(gb_sec_ind.count())"
   ]
  },
  {
   "cell_type": "code",
   "execution_count": null,
   "metadata": {},
   "outputs": [],
   "source": [
    "print(gb_sec_ind.Company.count())\n",
    "print('-----------------------')\n",
    "print(gb_sec_ind.Employees.count())\n",
    "print('-----------------------')"
   ]
  },
  {
   "cell_type": "markdown",
   "metadata": {},
   "source": [
    "分群運算"
   ]
  },
  {
   "cell_type": "code",
   "execution_count": null,
   "metadata": {},
   "outputs": [],
   "source": [
    "gb_sector = fortune1000.groupby('Sector')\n",
    "#print(gb_sector.Employees.sum())\n",
    "print(gb_sector.Employees.agg('sum'))"
   ]
  },
  {
   "cell_type": "code",
   "execution_count": null,
   "metadata": {},
   "outputs": [],
   "source": [
    "#print(gb_sector[['Revenue','Profits']].mean())\n",
    "print(gb_sector[['Revenue','Profits']].agg('mean'))"
   ]
  },
  {
   "cell_type": "markdown",
   "metadata": {},
   "source": [
    "分群聚合運算"
   ]
  },
  {
   "cell_type": "code",
   "execution_count": null,
   "metadata": {},
   "outputs": [],
   "source": [
    "gb_sector = fortune1000.groupby('Sector')\n",
    "print(gb_sector[['Revenue','Profits']].agg(['min','max']))"
   ]
  },
  {
   "cell_type": "code",
   "execution_count": null,
   "metadata": {},
   "outputs": [],
   "source": [
    "gb_sector = fortune1000.groupby('Sector')\n",
    "print(gb_sector.agg({'Revenue':'mean', 'Profits':['min','max'], 'Employees':'sum'}))\n",
    "print('Average\\t\\t\\t', gb_sector.Revenue.mean().sum(), gb_sector.Profits.min().sum(), gb_sector.Profits.max().sum(),gb_sector.Employees.sum().sum())"
   ]
  },
  {
   "cell_type": "markdown",
   "metadata": {},
   "source": [
    "## Pandas 繪圖 "
   ]
  },
  {
   "cell_type": "code",
   "execution_count": null,
   "metadata": {},
   "outputs": [],
   "source": [
    "import pandas as pd\n",
    "import matplotlib.pyplot as plt\n",
    "import numpy as np\n",
    "fortune1000 = pd.read_csv(\"Fortune1000.csv\",index_col=\"Rank\")\n",
    "fortune1000.dropna()\n",
    "columns = ['Revenue', 'Profits', 'Employees']\n",
    "gb_sector_num = fortune1000.groupby('Sector')[columns].mean()\n",
    "gb_sector_num.plot(kind='line')\n",
    "plt.xticks(np.arange(len(gb_sector_num.index)),\n",
    "                  gb_sector_num.index, rotation='vertical')\n",
    "plt.show()"
   ]
  },
  {
   "cell_type": "code",
   "execution_count": null,
   "metadata": {},
   "outputs": [],
   "source": [
    "columns = ['Revenue', 'Profits', 'Employees']\n",
    "gb_sector_num = fortune1000.groupby('Sector')[columns].mean()\n",
    "gb_sector_num.plot(subplots=True)\n",
    "plt.xticks(np.arange(len(gb_sector_num.index)), \n",
    "                  gb_sector_num.index, rotation='vertical')\n",
    "plt.show()"
   ]
  },
  {
   "cell_type": "code",
   "execution_count": null,
   "metadata": {},
   "outputs": [],
   "source": []
  }
 ],
 "metadata": {
  "kernelspec": {
   "display_name": "Python 3",
   "language": "python",
   "name": "python3"
  },
  "language_info": {
   "codemirror_mode": {
    "name": "ipython",
    "version": 3
   },
   "file_extension": ".py",
   "mimetype": "text/x-python",
   "name": "python",
   "nbconvert_exporter": "python",
   "pygments_lexer": "ipython3",
   "version": "3.8.1"
  }
 },
 "nbformat": 4,
 "nbformat_minor": 4
}
