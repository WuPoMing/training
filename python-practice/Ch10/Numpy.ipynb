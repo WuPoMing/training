{
 "cells": [
  {
   "cell_type": "markdown",
   "metadata": {},
   "source": [
    "## Numpy "
   ]
  },
  {
   "cell_type": "markdown",
   "metadata": {},
   "source": [
    "Python List"
   ]
  },
  {
   "cell_type": "code",
   "execution_count": null,
   "metadata": {},
   "outputs": [],
   "source": [
    "height = [ 173,  168,  171,  189,  179]\n",
    "weight = [65.4, 59.2, 63.6, 88.4, 68.7]\n",
    "#bmi = weight/(height/100)**2  #==>TypeError: unsupported operand type(s) for /: 'list' and 'int'"
   ]
  },
  {
   "cell_type": "code",
   "execution_count": null,
   "metadata": {},
   "outputs": [],
   "source": [
    "bmi = []\n",
    "for h, w in zip(height, weight):\n",
    "    bmi.append(w/(h/100)**2)\n",
    "print(bmi)"
   ]
  },
  {
   "cell_type": "markdown",
   "metadata": {},
   "source": [
    "Numpy"
   ]
  },
  {
   "cell_type": "code",
   "execution_count": null,
   "metadata": {},
   "outputs": [],
   "source": [
    "!pip install numpy"
   ]
  },
  {
   "cell_type": "code",
   "execution_count": null,
   "metadata": {},
   "outputs": [],
   "source": [
    "import numpy as np\n",
    "np_height = np.array(height)\n",
    "np_weight = np.array(weight)\n",
    "print(type(np_height))\n",
    "print(type(np_weight))"
   ]
  },
  {
   "cell_type": "code",
   "execution_count": null,
   "metadata": {},
   "outputs": [],
   "source": [
    "print(np.array([1.0, 'is', True]))"
   ]
  },
  {
   "cell_type": "code",
   "execution_count": null,
   "metadata": {},
   "outputs": [],
   "source": [
    "np_bmi = np_weight/(np_height/100)**2\n",
    "print(np_bmi)\n",
    "print(type(np_bmi))"
   ]
  },
  {
   "cell_type": "markdown",
   "metadata": {},
   "source": [
    "List vs. Numpy"
   ]
  },
  {
   "cell_type": "code",
   "execution_count": null,
   "metadata": {},
   "outputs": [],
   "source": [
    "python_list = [1,2,3]\n",
    "print(python_list+python_list)\n",
    "numpy_array = np.array([1,2,3])\n",
    "print(numpy_array+numpy_array)"
   ]
  },
  {
   "cell_type": "code",
   "execution_count": null,
   "metadata": {},
   "outputs": [],
   "source": [
    "l1 = [1,3,5,7,9]\n",
    "l2 = [3,5,6,7,9]\n",
    "print(l1+l2)\n",
    "#print(l1-l2)"
   ]
  },
  {
   "cell_type": "code",
   "execution_count": null,
   "metadata": {},
   "outputs": [],
   "source": [
    "n1 = np.array(l1)\n",
    "n2 = np.array(l2)\n",
    "print(n1+n2)\n",
    "print(n1-n2)"
   ]
  },
  {
   "cell_type": "markdown",
   "metadata": {},
   "source": [
    "NP陣列的基本屬性"
   ]
  },
  {
   "cell_type": "code",
   "execution_count": null,
   "metadata": {},
   "outputs": [],
   "source": [
    "vector = np.array([0,1,2,3])\n",
    "print(vector.ndim, vector.shape)\n",
    "matrix = np.array([[0,1,2,3],[4,5,6,7],[8,9,10,11]])\n",
    "print(matrix.ndim, matrix.shape)\n",
    "narray= np.array([[[0, 1, 2, 3],[4, 5, 6, 7], [8, 9, 10, 11]],[[12, 13, 14, 15],[16, 17, 18, 19], [20, 21, 22, 23]]])\n",
    "print(narray.ndim, narray.shape)"
   ]
  },
  {
   "cell_type": "code",
   "execution_count": null,
   "metadata": {},
   "outputs": [],
   "source": [
    "l = [[1, 2, 3],[2, 3, 4]]\n",
    "a = np.array(l)\n",
    "print(a)\n",
    "print(\"number of dim:\", a.ndim)\n",
    "print(\"shape:\", a.shape)\n",
    "print(\"len():\", len(a))\n",
    "print(\"len(a[0]):\", len(a[0]))\n",
    "print(\"size:\", a.size)\n",
    "print(\"dtype:\", a.dtype)\n",
    "print(\"itemsize:\", a.itemsize)\n",
    "print(\"nbytes:\", a.nbytes)"
   ]
  },
  {
   "cell_type": "markdown",
   "metadata": {},
   "source": [
    "建立自定初始值 NP 陣列"
   ]
  },
  {
   "cell_type": "code",
   "execution_count": null,
   "metadata": {},
   "outputs": [],
   "source": [
    "a1 = np.array([1,2,3,4])\n",
    "print(a1)\n",
    "a2 = np.arange(10)\n",
    "print(a2)\n",
    "a3 = np.arange(2,12,2)\n",
    "print(a3)\n",
    "a4 = np.linspace(0,1,5)\n",
    "print(a4)"
   ]
  },
  {
   "cell_type": "markdown",
   "metadata": {},
   "source": [
    "建立相同初始值 NP 陣列"
   ]
  },
  {
   "cell_type": "code",
   "execution_count": null,
   "metadata": {},
   "outputs": [],
   "source": [
    "a5=np.zeros((3,4))\n",
    "print(a5)\n",
    "a6= np.ones((3,4))\n",
    "print(a6)\n",
    "a7=np.full((3,4), 3)\n",
    "print(a7)"
   ]
  },
  {
   "cell_type": "markdown",
   "metadata": {},
   "source": [
    "建立隨機初始值 NP 陣列"
   ]
  },
  {
   "cell_type": "code",
   "execution_count": null,
   "metadata": {},
   "outputs": [],
   "source": [
    "a8 = np.empty((2,4))\n",
    "print(a8)\n",
    "a9 = np.random.random_sample(3)*10+10\n",
    "print(a9)\n",
    "a10 = np.random.randint(1, 50, 6)\n",
    "print(a10)\n",
    "a11 = np.random.normal(5, 2, 10)\n",
    "print(a11)"
   ]
  },
  {
   "cell_type": "markdown",
   "metadata": {},
   "source": [
    "建立特殊 NP 陣列"
   ]
  },
  {
   "cell_type": "code",
   "execution_count": null,
   "metadata": {},
   "outputs": [],
   "source": [
    "a12=np.eye(3)\n",
    "print(a12)\n",
    "a13 = np.eye(3,4,1)\n",
    "print(a13)\n",
    "a14=np.diag([1,2,3,4])\n",
    "print(a14)\n",
    "a15=np.diag([1,2,3,4], -1)\n",
    "print(a15)"
   ]
  },
  {
   "cell_type": "markdown",
   "metadata": {},
   "source": [
    "Numpy原生格式檔案存取"
   ]
  },
  {
   "cell_type": "code",
   "execution_count": null,
   "metadata": {},
   "outputs": [],
   "source": [
    "arr1 = np.random.randint(1, 10, [2,3])\n",
    "print(arr1)\n",
    "np.save('myArray', arr1)"
   ]
  },
  {
   "cell_type": "code",
   "execution_count": null,
   "metadata": {},
   "outputs": [],
   "source": [
    "arr2 = np.load('myArray.npy')\n",
    "print(arr2)"
   ]
  },
  {
   "cell_type": "markdown",
   "metadata": {},
   "source": [
    "檔案讀取 NP 陣列"
   ]
  },
  {
   "cell_type": "code",
   "execution_count": null,
   "metadata": {},
   "outputs": [],
   "source": [
    "import numpy as np\n",
    "arr1 = np.loadtxt('data1.csv',skiprows=1, delimiter=',')\n",
    "print(arr1)"
   ]
  },
  {
   "cell_type": "code",
   "execution_count": null,
   "metadata": {},
   "outputs": [],
   "source": [
    "v1, v2 = np.loadtxt('data1.csv',skiprows=1,unpack=True, delimiter=',')\n",
    "print(\"Value1=\",v1)\n",
    "print(\"Value2=\",v2)"
   ]
  },
  {
   "cell_type": "code",
   "execution_count": null,
   "metadata": {},
   "outputs": [],
   "source": [
    "arr2= np.loadtxt('data2.csv',skiprows=1, delimiter=',')\n",
    "print(arr)\n",
    "v1, v2 = np.loadtxt('data2.csv',skiprows=1,unpack=True, delimiter=',')\n",
    "print(\"Value1=\",v1)\n",
    "print(\"Value2=\",v2)"
   ]
  },
  {
   "cell_type": "code",
   "execution_count": null,
   "metadata": {},
   "outputs": [],
   "source": [
    "arr2 = np.genfromtxt('data2.csv', delimiter=',',skip_header=1)\n",
    "print(arr2)"
   ]
  },
  {
   "cell_type": "code",
   "execution_count": null,
   "metadata": {},
   "outputs": [],
   "source": [
    "arr3 = np.genfromtxt('data2.csv', delimiter=',', skip_header=1, filling_values= 0.0)\n",
    "print(arr3)\n",
    "np.savetxt('data2b.csv', arr3, delimiter=',',fmt='%.2f')"
   ]
  },
  {
   "cell_type": "markdown",
   "metadata": {},
   "source": [
    "一維 NP 陣列取值"
   ]
  },
  {
   "cell_type": "code",
   "execution_count": null,
   "metadata": {},
   "outputs": [],
   "source": [
    "np1d = np.array([1.73, 1.68, 1.71, 1.89, 1.79])\n",
    "print(np1d[2])\n",
    "print(np1d[1:4])"
   ]
  },
  {
   "cell_type": "markdown",
   "metadata": {},
   "source": [
    "二維 NP 陣列取值"
   ]
  },
  {
   "cell_type": "code",
   "execution_count": null,
   "metadata": {},
   "outputs": [],
   "source": [
    "np_2d = np.array([[1.73, 1.68, 1.71, 1.89, 1.79],\n",
    "                  [65.4, 59.2, 63.6, 88.4, 68.7],\n",
    "                  [21.9, 21.0, 21.8, 24.7, 21.4]])\n",
    "print(np_2d[0])\n",
    "print(np_2d[0][2])\n",
    "print(np_2d[0,2])"
   ]
  },
  {
   "cell_type": "code",
   "execution_count": null,
   "metadata": {},
   "outputs": [],
   "source": [
    "print(np_2d[:,2])\n",
    "print(np_2d[1,:])\n",
    "print(np_2d[:,1:3])\n",
    "print(np_2d[1:3,:])\n",
    "print(np_2d[:2,1:])\n",
    "print(np_2d[1:,:3])"
   ]
  },
  {
   "cell_type": "code",
   "execution_count": null,
   "metadata": {},
   "outputs": [],
   "source": [
    "print(np_2d[1:,[0,2,3]])\n",
    "print(np_2d[[0,2], :3])\n",
    "print(np_2d[(0,1,2),(1,2,3)])"
   ]
  },
  {
   "cell_type": "markdown",
   "metadata": {},
   "source": [
    "陣列間隔取值"
   ]
  },
  {
   "cell_type": "code",
   "execution_count": null,
   "metadata": {},
   "outputs": [],
   "source": [
    "a = np.arange(10)\n",
    "print(a)\n",
    "print(a[1:8:3])\n",
    "print(a[::-1])"
   ]
  },
  {
   "cell_type": "markdown",
   "metadata": {},
   "source": [
    "關係運算取子集合"
   ]
  },
  {
   "cell_type": "code",
   "execution_count": null,
   "metadata": {},
   "outputs": [],
   "source": [
    "bmi = np.array([21.852, 20.975, 21.75, 24.747, 21.441])\n",
    "print(bmi>21.5)\n",
    "print(bmi[bmi>21.5])"
   ]
  },
  {
   "cell_type": "markdown",
   "metadata": {},
   "source": [
    "陣列重設"
   ]
  },
  {
   "cell_type": "code",
   "execution_count": null,
   "metadata": {},
   "outputs": [],
   "source": [
    "a = np.arange(9)\n",
    "b = np.reshape(a, (3,3))\n",
    "print(a)\n",
    "print(b)\n",
    "a[2]=0\n",
    "print(a)\n",
    "print(b)"
   ]
  },
  {
   "cell_type": "code",
   "execution_count": null,
   "metadata": {},
   "outputs": [],
   "source": [
    "a = np.arange(6)\n",
    "b = np.resize(a,(2,2))\n",
    "c = np.resize(a,(3,3))\n",
    "print(a)\n",
    "print(b)\n",
    "print(c)\n",
    "a[2]=0\n",
    "print(a)\n",
    "print(b)\n",
    "print(c)"
   ]
  },
  {
   "cell_type": "code",
   "execution_count": null,
   "metadata": {},
   "outputs": [],
   "source": [
    "x = np.arange(9).reshape((3,3))\n",
    "print(x)\n",
    "print(np.diag(x))\n",
    "print(np.diag(x, k=1))\n",
    "print(np.diag(x, k=-1))"
   ]
  },
  {
   "cell_type": "markdown",
   "metadata": {},
   "source": [
    "NP陣列基本算術運算"
   ]
  },
  {
   "cell_type": "code",
   "execution_count": null,
   "metadata": {},
   "outputs": [],
   "source": [
    "arr1 = np.array([1,3,5])+np.array([2,4,6])\n",
    "print(arr1)\n",
    "arr2 = np.array([1,3,5])+2\n",
    "print(arr2)\n",
    "arr3 = np.arange(10)\n",
    "arr3[arr3%2==0]=0\n",
    "print(arr3)"
   ]
  },
  {
   "cell_type": "markdown",
   "metadata": {},
   "source": [
    "NP 陣列進階算術運算"
   ]
  },
  {
   "cell_type": "code",
   "execution_count": null,
   "metadata": {},
   "outputs": [],
   "source": [
    "height = np.around(np.random.normal(175, 20, 5000), 1)\n",
    "weight = np.around(np.random.normal(60, 15, 5000), 1)\n",
    "np_city = np.column_stack((height, weight))\n",
    "print(np_city)"
   ]
  },
  {
   "cell_type": "code",
   "execution_count": null,
   "metadata": {},
   "outputs": [],
   "source": [
    "print(\"身高:{0}~{1}公分\".format(np.min(height), np.max(height)))\n",
    "print(\"體重:{0}~{1}公斤\".format(np.min(weight), np.max(weight)))"
   ]
  },
  {
   "cell_type": "code",
   "execution_count": null,
   "metadata": {},
   "outputs": [],
   "source": [
    "print(\"平均身高%.2f公分\" %np.mean(np_city[:,0]))\n",
    "print(\"平均體重%.2f公斤\" %np.mean(np_city[:,1]))"
   ]
  },
  {
   "cell_type": "code",
   "execution_count": null,
   "metadata": {},
   "outputs": [],
   "source": [
    "print(\"身高中位數%.2f公分\" %np.median(np_city[:,0]))\n",
    "print(\"體重中位數%.2f公斤\" %np.median(np_city[:,1]))"
   ]
  },
  {
   "cell_type": "code",
   "execution_count": null,
   "metadata": {},
   "outputs": [],
   "source": [
    "print(\"身高標準差為\", np.std(height))\n",
    "print(\"體重標準差為\", np.std(weight))"
   ]
  },
  {
   "cell_type": "code",
   "execution_count": null,
   "metadata": {},
   "outputs": [],
   "source": [
    "print(\"身高與體重相關係數\")\n",
    "print(np.corrcoef(height, weight))"
   ]
  },
  {
   "cell_type": "markdown",
   "metadata": {},
   "source": [
    "考試成績統計運算"
   ]
  },
  {
   "cell_type": "code",
   "execution_count": null,
   "metadata": {},
   "outputs": [],
   "source": [
    "import numpy as np\n",
    "CH = np.around(np.random.normal(80, 8, 5))\n",
    "EN = np.around(np.random.normal(60, 15, 5))\n",
    "MA = np.around(np.random.normal(55, 25, 5))\n",
    "Score = np.column_stack((CH,EN,MA))\n",
    "print(Score)"
   ]
  },
  {
   "cell_type": "code",
   "execution_count": null,
   "metadata": {},
   "outputs": [],
   "source": [
    "minScore = np.min(Score, axis=0)\n",
    "print(minScore)\n",
    "maxScore = np.max(Score, axis=0)\n",
    "print(maxScore)\n",
    "print(\"國語:{0}~{1}\".format(minScore[0], maxScore[0]))\n",
    "print(\"英文:{0}~{1}\".format(minScore[1], maxScore[1]))\n",
    "print(\"數學:{0}~{1}\".format(minScore[2], maxScore[2]))"
   ]
  },
  {
   "cell_type": "code",
   "execution_count": null,
   "metadata": {},
   "outputs": [],
   "source": [
    "print(\"國語平均分數%.2f\" %np.mean(Score[:,0]))\n",
    "print(\"英文平均分數%.2f\" %np.mean(Score[:,1]))\n",
    "print(\"數學平均分數%.2f\" %np.mean(Score[:,2]))\n",
    "subjAvg = np.mean(Score, axis=0)\n",
    "print(\"國語平均分數%.2f\" %subjAvg[0])\n",
    "print(\"英文平均分數%.2f\" %subjAvg[1])\n",
    "print(\"數學平均分數%.2f\" %subjAvg[2])"
   ]
  },
  {
   "cell_type": "code",
   "execution_count": null,
   "metadata": {},
   "outputs": [],
   "source": [
    "print(\"學生一平均分數%.2f\" %np.mean(Score[0,:]))\n",
    "print(\"學生二平均分數%.2f\" %np.mean(Score[1,:]))\n",
    "print(\"學生三平均分數%.2f\" %np.mean(Score[2,:]))\n",
    "print(\"學生四平均分數%.2f\" %np.mean(Score[3,:]))\n",
    "print(\"學生五平均分數%.2f\" %np.mean(Score[4,:]))\n",
    "stuAvg = np.mean(Score, axis=1)\n",
    "print(\"學生一平均分數%.2f\" %stuAvg[0])\n",
    "print(\"學生二平均分數%.2f\" %stuAvg[1])\n",
    "print(\"學生三平均分數%.2f\" %stuAvg[2])\n",
    "print(\"學生四平均分數%.2f\" %stuAvg[3])\n",
    "print(\"學生五平均分數%.2f\" %stuAvg[4])"
   ]
  },
  {
   "cell_type": "code",
   "execution_count": null,
   "metadata": {},
   "outputs": [],
   "source": [
    "subjMed = np.median(Score, axis=0)\n",
    "print(\"國語中位數%.2f\" %subjMed[0])\n",
    "print(\"英文中位數%.2f\" %subjMed[1])\n",
    "print(\"數學中位數%.2f\" %subjMed[2])"
   ]
  },
  {
   "cell_type": "code",
   "execution_count": null,
   "metadata": {},
   "outputs": [],
   "source": [
    "subjStd = np.std(Score, axis=0)\n",
    "print(\"國語標準差%.2f\" %subjStd[0])\n",
    "print(\"英文標準差%.2f\" %subjStd[1])\n",
    "print(\"數學標準差%.2f\" %subjStd[2])"
   ]
  },
  {
   "cell_type": "code",
   "execution_count": null,
   "metadata": {},
   "outputs": [],
   "source": [
    "print(\"國語與英文相關係數:\", np.corrcoef(CH,EN))\n",
    "print(\"國語與數學相關係數:\", np.corrcoef(CH,MA))\n",
    "print(\"英文與數學相關係數:\", np.corrcoef(EN,MA))"
   ]
  },
  {
   "cell_type": "code",
   "execution_count": null,
   "metadata": {},
   "outputs": [],
   "source": []
  }
 ],
 "metadata": {
  "kernelspec": {
   "display_name": "Python 3",
   "language": "python",
   "name": "python3"
  },
  "language_info": {
   "codemirror_mode": {
    "name": "ipython",
    "version": 3
   },
   "file_extension": ".py",
   "mimetype": "text/x-python",
   "name": "python",
   "nbconvert_exporter": "python",
   "pygments_lexer": "ipython3",
   "version": "3.8.1"
  }
 },
 "nbformat": 4,
 "nbformat_minor": 2
}
